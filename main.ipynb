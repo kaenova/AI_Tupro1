{
 "cells": [
  {
   "cell_type": "markdown",
   "metadata": {
    "id": "CxEtQ3xsV-wU"
   },
   "source": [
    "# AI_Tupro1\n",
    "Kaenova Mahendra Auditama<sup>1</sup><br>\n",
    "Adhe Akram Azhari<sup>2</sup><br>\n",
    "Elita Aurora Az Zahra<sup>3</sup><br>\n",
    "<sup>1</sup><a href=\"kaenova@student.telkomuniversity.ac.id\">kaenova@student.telkomuniversity.ac.id</a><br>\n",
    "<sup>2</sup><a href=\"adheakramazhari@student.telkomuniversity.ac.id\">adheakramazhari@student.telkomuniversity.ac.id</a><br>\n",
    "<sup>3</sup><a href=\"elitaaurora@student.telkomuniversity.ac.id\">elitaaurora@student.telkomuniversity.ac.id</a><br>\n",
    "Informatics Engineering, Telkom University, Indonesia<br>\n",
    "2021\n",
    "\n",
    "Proyek ini merupakan proyek pertama dari Mata Kuliah Pengantar Kecerdasan Buatan dari 3 proyek yang akan di buat. Proyek pertama ini mengimplementasikan teknik searching dalam Kecerdasan Buatan dengan Genetic Algorithm. Pada algoritma ini kami membuat populasi dan generasi yang dapat diatur. Hal lain juga kami mengimplementasikan Elitisme. Pada penyeleksian orang tua, kami menggunakan fitness kompetisi dimana akan diambil sebanyak (Jumlah Populasi - Jumlah Elitism) sehingga generasi yang terbaru akan dibuat dari Elitisme serta hasil Crossover.  \n",
    "  \n",
    "Pada algoritma ini dibutuhkan library ```tqdm```. Untuk menginstallnya gunakan command berikut:  \n",
    "    <pre><code>pip install tqdm</code></pre>\n",
    "atau\n",
    "    <pre><code>conda install tqdm</code></pre>"
   ]
  },
  {
   "cell_type": "markdown",
   "metadata": {
    "id": "bA6uSnqKV-we"
   },
   "source": [
    "## Overview Tugas\n",
    "<hr>\n",
    "<br>\n",
    "Pada tugas yang diberikan, kami diminta untuk membuat suatu program yang menerapkan suatu teknik searching dengan menggunakan suatu konsep kecerdasan buatan. Dalam hal ini kami diminta untuk membuat dengan menggunakan Genetic Algorithm.  \n",
    "  \n",
    "Tugas tersebut memberikan kita suatu masalah untuk mencari nilai <b>maksimum</b> dari suatu fungsi:  \n",
    "<br>\n",
    "<img src=\"https://cdn.discordapp.com/attachments/766644489208201276/822318513347756042/unknown.png\" align=\"center\" width=\"40%\"/>\n",
    "dengan batasan x = [-1, 2] dan y = [-1, 1]"
   ]
  },
  {
   "cell_type": "markdown",
   "metadata": {
    "id": "z70y76pHV-wf"
   },
   "source": [
    "## Rancangan Algoritma\n",
    "<hr>\n",
    "Untuk menyelesaikan tugas tersebut kami merancang algoritma sesuai pada diagram di bawah:  \n",
    "<br>\n",
    "<img src=\"https://cdn.discordapp.com/attachments/766644489208201276/822322600923103252/unknown.png\" align=\"center\" width=\"50%\">  \n",
    "<br>\n",
    "Dengan algoritma yang sudah dibuat kami juga menentukan bentuk kromosom yang ingin dibuat. Kromosom yang dibuat terdiri dari 8 genotip yang akan dibagi menjadi 2 bagian. Untuk 3 genotip pertama akan merepresentasikan untuk nilai x dan 3 genotip setelahnya digunakan untuk merepresentasikan nilai y. Pada setiap genotip tersebut akan diisi dengan suatu nilai bilangan bilangan bulat mulai dengan batasan [0, 9]  \n",
    "<br>\n",
    "<img src=\"https://cdn.discordapp.com/attachments/527433841690804224/822508955632664606/unknown.png\" align=\"center\" width=\"50%\"/>\n",
    "<br>  \n",
    "Untuk merubah genotip-genotip tersebut menjadi suatu nilai x dan y kami menggunakan suatu rumus seperti di bawah ini:\n",
    "<img src=\"https://cdn.discordapp.com/attachments/527433841690804224/822509203272106035/unknown.png\" align=\"center\" width=\"50%\"/> "
   ]
  },
  {
   "cell_type": "markdown",
   "metadata": {
    "id": "0D9yOox-V-wh"
   },
   "source": [
    "## The Code\n",
    "<hr>"
   ]
  },
  {
   "cell_type": "markdown",
   "metadata": {
    "id": "Tamt88oNV-wi"
   },
   "source": [
    "## Import Libraries\n",
    "Library python yang harus di masukkan untuk menjalankan algoritma ini"
   ]
  },
  {
   "cell_type": "code",
   "execution_count": 32,
   "metadata": {
    "executionInfo": {
     "elapsed": 980,
     "status": "ok",
     "timestamp": 1616225966943,
     "user": {
      "displayName": "Kaenova Mahendra Auditama",
      "photoUrl": "https://lh3.googleusercontent.com/a-/AOh14Gi1RKfxEOWo3OIlFm8PnyXZE9ZHeE2hrNOTSBDKYw=s64",
      "userId": "02421881994816586492"
     },
     "user_tz": -420
    },
    "id": "6GGKSjtwV-wj"
   },
   "outputs": [],
   "source": [
    "import random\n",
    "import math\n",
    "import matplotlib.pyplot as plt\n",
    "from time import sleep\n",
    "from tqdm import tqdm"
   ]
  },
  {
   "cell_type": "markdown",
   "metadata": {
    "id": "1zeuokARV-wk"
   },
   "source": [
    "## Chromosome Class\n",
    "Untuk membuat kromosom, kami merancang bahwa kromosom akan dibuat sebagai suatu objek yang memiliki beberapa prosedur seperti pengdekodean genotip menjadi suatu nilai x dan y serta untuk menghitung fitness dari kromosom itu sendiri."
   ]
  },
  {
   "cell_type": "code",
   "execution_count": 33,
   "metadata": {
    "executionInfo": {
     "elapsed": 972,
     "status": "ok",
     "timestamp": 1616225966945,
     "user": {
      "displayName": "Kaenova Mahendra Auditama",
      "photoUrl": "https://lh3.googleusercontent.com/a-/AOh14Gi1RKfxEOWo3OIlFm8PnyXZE9ZHeE2hrNOTSBDKYw=s64",
      "userId": "02421881994816586492"
     },
     "user_tz": -420
    },
    "id": "GAfJw5T-V-wl"
   },
   "outputs": [],
   "source": [
    "class kromosome():\n",
    "    panjang = 8 #This must be even\n",
    "    \n",
    "    def decodeX(self):\n",
    "        temp_genotipe = 0\n",
    "        temp_integer = 0\n",
    "        for i in range(int(self.panjang / 2)):\n",
    "            temp_genotipe += self.kromosom[i] * (10**(-(i+1)))\n",
    "            temp_integer += 9*(10**(-(i+1)))\n",
    "        self.x = (-1) + (((2 - (-1))/temp_integer) * temp_genotipe)\n",
    "        \n",
    "    def decodeY(self):\n",
    "        temp_genotipe = 0\n",
    "        temp_integer = 0\n",
    "        for i in range(int(self.panjang / 2)):\n",
    "            temp_genotipe += self.kromosom[i+int(self.panjang / 2)] * (10**(-(i+1)))\n",
    "            temp_integer += 9*(10**(-(i+1)))\n",
    "        self.y = (-1) + (((1 - (-1))/temp_integer) * temp_genotipe)\n",
    "\n",
    "    def CalculateFitness(self):\n",
    "        self.fitness = (math.cos(self.x**2)*math.sin(self.y**2) + (self.x + self.y))\n",
    "\n",
    "    def PrintKromosome(self):\n",
    "        print(\"Fitness: {}\".format(self.fitness))\n",
    "        print(\"Fenotip X: {} Y: {}\".format(self.x, self.y))\n",
    "        print(\"Genotipe: {} \\n\".format(self.kromosom))\n",
    "\n",
    "    def __init__(self):\n",
    "        self.kromosom = []\n",
    "        self.fitness = 0\n",
    "        self.x = 0\n",
    "        self.y = 0\n",
    "        for j in range(self.panjang):\n",
    "            self.kromosom.append(random.randint(0, 9))\n",
    "        self.decodeX()\n",
    "        self.decodeY()"
   ]
  },
  {
   "cell_type": "markdown",
   "metadata": {
    "id": "IRV9dAazV-wm"
   },
   "source": [
    "## Genetic Algorithm Procedure and Function\n",
    "Fungsi dan Prosedur utama yang dibutuhkan untuk menjalankan algoritma ini"
   ]
  },
  {
   "cell_type": "markdown",
   "metadata": {
    "id": "LdHaWts5V-wn"
   },
   "source": [
    "### Initialize Population\n",
    "Dalam prosedur ini digunakan sebagai generasi pertama, dimana akan digunakan untuk membuat kromosom sebanyak jumlah yang ditentukan."
   ]
  },
  {
   "cell_type": "code",
   "execution_count": 34,
   "metadata": {
    "executionInfo": {
     "elapsed": 963,
     "status": "ok",
     "timestamp": 1616225966947,
     "user": {
      "displayName": "Kaenova Mahendra Auditama",
      "photoUrl": "https://lh3.googleusercontent.com/a-/AOh14Gi1RKfxEOWo3OIlFm8PnyXZE9ZHeE2hrNOTSBDKYw=s64",
      "userId": "02421881994816586492"
     },
     "user_tz": -420
    },
    "id": "QWEj9lg8V-wn"
   },
   "outputs": [],
   "source": [
    "def initialize_population(population_made):\n",
    "    population = []\n",
    "    for i in range(population_made): #variable\n",
    "        kromosome_temp = kromosome()\n",
    "        # Coded by Kaenova Mahendra Auditama (kaenova@gmail.com)\n",
    "        # *not responsible if someone plagirized or copied my code\n",
    "        population.append(kromosome_temp)\n",
    "    return population"
   ]
  },
  {
   "cell_type": "markdown",
   "metadata": {
    "id": "n9rKtpfyV-wn"
   },
   "source": [
    "### CalculateKromosomeFitness\n",
    "Fungsi ini digunakan untuk menghitung fitness pada setiap kromosom."
   ]
  },
  {
   "cell_type": "code",
   "execution_count": 35,
   "metadata": {
    "executionInfo": {
     "elapsed": 959,
     "status": "ok",
     "timestamp": 1616225966948,
     "user": {
      "displayName": "Kaenova Mahendra Auditama",
      "photoUrl": "https://lh3.googleusercontent.com/a-/AOh14Gi1RKfxEOWo3OIlFm8PnyXZE9ZHeE2hrNOTSBDKYw=s64",
      "userId": "02421881994816586492"
     },
     "user_tz": -420
    },
    "id": "scFCHFp0V-wo"
   },
   "outputs": [],
   "source": [
    "def calculateKromosomeFitness(population):\n",
    "    for i in range(len(population)):\n",
    "        population[i].CalculateFitness()"
   ]
  },
  {
   "cell_type": "markdown",
   "metadata": {
    "id": "5wKtNEL2V-wo"
   },
   "source": [
    "### PopulationFitnessSort\n",
    "Dalam algoritma ini kami akan melakukan elitism dan selection parent sehingga dibutuhkan fungsi yang mengembalikan kromosom secara terurut mengecil dari berdasarkan fitness tersebut.\n"
   ]
  },
  {
   "cell_type": "code",
   "execution_count": 36,
   "metadata": {
    "executionInfo": {
     "elapsed": 951,
     "status": "ok",
     "timestamp": 1616225966949,
     "user": {
      "displayName": "Kaenova Mahendra Auditama",
      "photoUrl": "https://lh3.googleusercontent.com/a-/AOh14Gi1RKfxEOWo3OIlFm8PnyXZE9ZHeE2hrNOTSBDKYw=s64",
      "userId": "02421881994816586492"
     },
     "user_tz": -420
    },
    "id": "TlPiFVbQV-wo"
   },
   "outputs": [],
   "source": [
    "def PopulationFitnessSort(population: [kromosome()]):\n",
    "    population = sorted(population, key=lambda x: x.fitness, reverse= 1)\n",
    "\n",
    "    return population"
   ]
  },
  {
   "cell_type": "markdown",
   "metadata": {
    "id": "lcxPwvK_V-wo"
   },
   "source": [
    "### GetElitism\n",
    "Fungsi ini akan mengambil kromosom terbaik dari suatu populasi yang sudah diurutkan dari yang terbesar menuju ke terkecil. Banyaknya yang diambil sebesar 1/5 dari total populasi yang ada."
   ]
  },
  {
   "cell_type": "code",
   "execution_count": 37,
   "metadata": {
    "executionInfo": {
     "elapsed": 945,
     "status": "ok",
     "timestamp": 1616225966949,
     "user": {
      "displayName": "Kaenova Mahendra Auditama",
      "photoUrl": "https://lh3.googleusercontent.com/a-/AOh14Gi1RKfxEOWo3OIlFm8PnyXZE9ZHeE2hrNOTSBDKYw=s64",
      "userId": "02421881994816586492"
     },
     "user_tz": -420
    },
    "id": "NdizvOd7V-wo"
   },
   "outputs": [],
   "source": [
    "def getElitism(population):\n",
    "    get_selection = (math.floor(len(population)/ 5))\n",
    "    if get_selection % 2 != 0:\n",
    "        get_selection += 1\n",
    "    elitism = []\n",
    "    for i in range(get_selection):\n",
    "        elitism.append(population[i])\n",
    "\n",
    "    return elitism"
   ]
  },
  {
   "cell_type": "markdown",
   "metadata": {
    "id": "SPjWRtU9V-wp"
   },
   "source": [
    "### TournamentSelection\n",
    "Fungsi ini akan mengambil kromosom-kromosom dari populasi berdasarkan fitness. Yang terambil sebanyak 4/5 dari populasi dan index yang mulai diambil merupakan index dari 1/10 populasi."
   ]
  },
  {
   "cell_type": "code",
   "execution_count": 38,
   "metadata": {
    "executionInfo": {
     "elapsed": 936,
     "status": "ok",
     "timestamp": 1616225966950,
     "user": {
      "displayName": "Kaenova Mahendra Auditama",
      "photoUrl": "https://lh3.googleusercontent.com/a-/AOh14Gi1RKfxEOWo3OIlFm8PnyXZE9ZHeE2hrNOTSBDKYw=s64",
      "userId": "02421881994816586492"
     },
     "user_tz": -420
    },
    "id": "ftdY4RpNV-wp"
   },
   "outputs": [],
   "source": [
    "def tournamentSelection(population):\n",
    "    get_selection = (math.floor(len(population)/ 5))\n",
    "    if get_selection % 2 != 0:\n",
    "       get_selection += 1\n",
    "    jum_parent = (len(population) - get_selection)\n",
    "    start_parent = int((get_selection / 2) - 1)\n",
    "    parent = []\n",
    "    for i in range(jum_parent) :\n",
    "        parent.append(population[start_parent])\n",
    "\n",
    "    return parent"
   ]
  },
  {
   "cell_type": "markdown",
   "metadata": {
    "id": "wTcXfzF-V-wp"
   },
   "source": [
    "### MatingPool\n",
    "Dari Fungsi TournamentSelection, pada mating pool ini akan memasangkan parent-parent tersebut untuk dipersiapkan melakukan crossover."
   ]
  },
  {
   "cell_type": "code",
   "execution_count": 39,
   "metadata": {
    "executionInfo": {
     "elapsed": 927,
     "status": "ok",
     "timestamp": 1616225966950,
     "user": {
      "displayName": "Kaenova Mahendra Auditama",
      "photoUrl": "https://lh3.googleusercontent.com/a-/AOh14Gi1RKfxEOWo3OIlFm8PnyXZE9ZHeE2hrNOTSBDKYw=s64",
      "userId": "02421881994816586492"
     },
     "user_tz": -420
    },
    "id": "xLud3QGlV-wp"
   },
   "outputs": [],
   "source": [
    "def MatingPool(parent = [kromosome()]):\n",
    "    parent_temp = parent\n",
    "    pasangan = []\n",
    "    j = 0\n",
    "\n",
    "    for i in range(int(len(parent)/2)):\n",
    "        pasangan_temp = []\n",
    "        random_angka_parent = random.randint(1, (len(parent_temp)-1))\n",
    "        pasangan_temp.append(parent_temp[0])\n",
    "        pasangan_temp.append(parent_temp[random_angka_parent])\n",
    "        pasangan.append(pasangan_temp)\n",
    "        parent_temp.pop(random_angka_parent)\n",
    "        parent_temp.pop(0)\n",
    "        j = j + 1\n",
    "\n",
    "    return pasangan"
   ]
  },
  {
   "cell_type": "markdown",
   "metadata": {
    "id": "BHL3tvgKV-wp"
   },
   "source": [
    "### Crossover\n",
    "Setelah melakukan pemasang-masangan pada fungsi MatingPool dilakukan crossover pada titik yang random di genotip. Sehingga pada suatu pasangan akan menghasilkan 2 anak (child)."
   ]
  },
  {
   "cell_type": "code",
   "execution_count": 40,
   "metadata": {
    "executionInfo": {
     "elapsed": 1222,
     "status": "ok",
     "timestamp": 1616225967254,
     "user": {
      "displayName": "Kaenova Mahendra Auditama",
      "photoUrl": "https://lh3.googleusercontent.com/a-/AOh14Gi1RKfxEOWo3OIlFm8PnyXZE9ZHeE2hrNOTSBDKYw=s64",
      "userId": "02421881994816586492"
     },
     "user_tz": -420
    },
    "id": "LC4WU9mYV-wq"
   },
   "outputs": [],
   "source": [
    "def crossover(pasangan = [[kromosome],[kromosome]]):\n",
    "    populasi_anak = []\n",
    "    for i in range(len(pasangan)):\n",
    "        temp_pasangan = pasangan[i]\n",
    "        parent1 = temp_pasangan[0]\n",
    "        parent2 = temp_pasangan[1]\n",
    "        panjang_potong = random.randint(1,parent1.panjang-2)\n",
    "\n",
    "        children_temp1 = []\n",
    "        children_temp2 = []\n",
    "\n",
    "        for j in range(panjang_potong):\n",
    "            children_temp1.append(parent1.kromosom[j])\n",
    "        for k in range(len(parent1.kromosom) - panjang_potong):\n",
    "            children_temp1.append(parent2.kromosom[k+panjang_potong])\n",
    "        for j in range(panjang_potong):\n",
    "            children_temp2.append(parent2.kromosom[j])\n",
    "        for k in range(len(parent1.kromosom) - panjang_potong):\n",
    "            children_temp2.append(parent1.kromosom[k+panjang_potong])\n",
    "\n",
    "        kromosome_temp_1 = kromosome()\n",
    "        kromosome_temp_2 = kromosome()\n",
    "        kromosome_temp_1.kromosom = children_temp1\n",
    "        kromosome_temp_2.kromosom = children_temp2\n",
    "        kromosome_temp_1.CalculateFitness()\n",
    "        kromosome_temp_2.CalculateFitness()\n",
    "        populasi_anak.append(kromosome_temp_1)\n",
    "        populasi_anak.append(kromosome_temp_2)\n",
    "\n",
    "    return populasi_anak"
   ]
  },
  {
   "cell_type": "markdown",
   "metadata": {
    "id": "9sXumWE9V-wr"
   },
   "source": [
    "### Mutation\n",
    "Dalam genetika kita tidak boleh melupakan kemungkinan terjadinya suatu mutasi pada genotip-genotiup tertentu. Disini saya membuat bahwa besarnya mutasi pada suatu genotip adalah acak dari range [-0.08, 0.08] dengan kemungkinan terjadinya mutasi dibawah 1%"
   ]
  },
  {
   "cell_type": "code",
   "execution_count": 41,
   "metadata": {
    "executionInfo": {
     "elapsed": 1220,
     "status": "ok",
     "timestamp": 1616225967258,
     "user": {
      "displayName": "Kaenova Mahendra Auditama",
      "photoUrl": "https://lh3.googleusercontent.com/a-/AOh14Gi1RKfxEOWo3OIlFm8PnyXZE9ZHeE2hrNOTSBDKYw=s64",
      "userId": "02421881994816586492"
     },
     "user_tz": -420
    },
    "id": "GZMWO4aXV-ws"
   },
   "outputs": [],
   "source": [
    "def mutation(children):\n",
    "    for i in range(len(children)):\n",
    "        for j in range(children[i].panjang):\n",
    "            random_mutation = random.uniform(0,1)\n",
    "            if (random_mutation < 0.1 ): #Setup mutasi\n",
    "                if children[i].kromosom[j] > 0:\n",
    "                    children[i].kromosom[j] -= 1\n",
    "                else:\n",
    "                    children[i].kromosom[j] += 1\n",
    "    \n",
    "    return children"
   ]
  },
  {
   "cell_type": "markdown",
   "metadata": {
    "id": "XNswplTgV-wt"
   },
   "source": [
    "## Other Procedure or Function\n",
    "Kami juga membutuhkan prosedur atau fungsi lain yang bukan menjadi hal utama dalam algoritma ini, tetapi untuk membantu tracking generasi dan kromosom yang terjadi ketika algoritma ini berjalan"
   ]
  },
  {
   "cell_type": "code",
   "execution_count": 42,
   "metadata": {
    "executionInfo": {
     "elapsed": 1213,
     "status": "ok",
     "timestamp": 1616225967260,
     "user": {
      "displayName": "Kaenova Mahendra Auditama",
      "photoUrl": "https://lh3.googleusercontent.com/a-/AOh14Gi1RKfxEOWo3OIlFm8PnyXZE9ZHeE2hrNOTSBDKYw=s64",
      "userId": "02421881994816586492"
     },
     "user_tz": -420
    },
    "id": "azmyVxoXV-wt"
   },
   "outputs": [],
   "source": [
    "def printAllKromosome(population = [kromosome()]):\n",
    "    for i in range(len(population)):\n",
    "        population[i].PrintKromosome()\n",
    "\n",
    "def printBestKromosom(best: kromosome, generasi):\n",
    "    print(\" Best Fitness from Generation {}\".format(generasi+1))\n",
    "    # Coded by Kaenova Mahendra Auditama (kaenova@gmail.com)\n",
    "    # *not responsible if someone plagirized or copied my code\n",
    "    print(\"Fitness: {}\".format(best.fitness))\n",
    "    print(\"Fenotip X: {} Y: {}\".format(best.x, best.y))\n",
    "    print(\"Genotipe: {} \\n\".format(best.kromosom))"
   ]
  },
  {
   "cell_type": "markdown",
   "metadata": {
    "id": "_FHIbG5KV-wt"
   },
   "source": [
    "## MAIN"
   ]
  },
  {
   "cell_type": "code",
   "execution_count": 49,
   "metadata": {
    "colab": {
     "base_uri": "https://localhost:8080/",
     "height": 366
    },
    "executionInfo": {
     "elapsed": 7802,
     "status": "ok",
     "timestamp": 1616226390784,
     "user": {
      "displayName": "Kaenova Mahendra Auditama",
      "photoUrl": "https://lh3.googleusercontent.com/a-/AOh14Gi1RKfxEOWo3OIlFm8PnyXZE9ZHeE2hrNOTSBDKYw=s64",
      "userId": "02421881994816586492"
     },
     "user_tz": -420
    },
    "id": "5inhDcm6V-wu",
    "outputId": "7b61340e-f751-402c-d70f-736d2941cfbd"
   },
   "outputs": [
    {
     "name": "stdout",
     "output_type": "stream",
     "text": [
      "How many population do you want to have? \n",
      " [Input Even Number over 10] : 10\n",
      "How many generation do you want to have?: 1000\n"
     ]
    },
    {
     "name": "stderr",
     "output_type": "stream",
     "text": [
      "100%|██████████| 1000/1000 [00:00<00:00, 3531.65it/s]\n"
     ]
    },
    {
     "name": "stdout",
     "output_type": "stream",
     "text": [
      " Best Fitness from Generation 864\n",
      "Fitness: 2.4773340934762507\n",
      "Fenotip X: 0.8922892289228928 Y: 0.9979997999799979\n",
      "Genotipe: [7, 7, 2, 5, 7, 1, 4, 8] \n",
      "\n"
     ]
    },
    {
     "data": {
      "image/png": "[encoded data removed]",
      "text/plain": [
       "<Figure size 720x216 with 1 Axes>"
      ]
     },
     "metadata": {
      "needs_background": "light",
      "tags": []
     },
     "output_type": "display_data"
    }
   ],
   "source": [
    "if __name__ == \"__main__\":\n",
    "    population_number = int(input(\"How many population do you want to have? \\n [Input Even Number over 10] : \"))\n",
    "    while (population_number % 2 != 0) or (population_number < 10):\n",
    "        population_number = int(input(\"How many population do you want to have? \\n [Input Even Number over 10] : \"))\n",
    "\n",
    "    generation = int(input(\"How many generation do you want to have?: \"))\n",
    "    while generation <= 0:\n",
    "        generation = int(input(\"How many generation do you want to have?: \"))\n",
    "        \n",
    "    fitness_genertaion = []\n",
    "    generation_numbering = []\n",
    "    \n",
    "    population = initialize_population(population_number)\n",
    "\n",
    "    best_kromosom = kromosome()\n",
    "    best_generation = 0\n",
    "\n",
    "    for i in tqdm(range(generation)):\n",
    "        calculateKromosomeFitness(population)\n",
    "        population = PopulationFitnessSort(population)\n",
    "        \n",
    "        #This is for plotting\n",
    "        generation_numbering.append(i + 1)\n",
    "        fitness_genertaion.append(population[0].fitness)\n",
    "        if best_kromosom.fitness < population[0].fitness:\n",
    "            best_generation = i+1\n",
    "            best_kromosom = population[0]\n",
    "        \n",
    "        elitism = getElitism(population)\n",
    "        parent = tournamentSelection(population) \n",
    "        couple = MatingPool(parent)\n",
    "        children = crossover(couple)\n",
    "        children = mutation(children)\n",
    "        population = children  + elitism\n",
    "\n",
    "    \n",
    "    #make a plot\n",
    "    plt.figure(figsize=(10,3))\n",
    "    plt.plot(generation_numbering, fitness_genertaion)\n",
    "    printBestKromosom(best_kromosom, best_generation)"
   ]
  },
  {
   "cell_type": "markdown",
   "metadata": {
    "id": "cnbBqMJUV-wv"
   },
   "source": [
    "##Endnote by Author\n",
    "Pertama-tama kami mengucapkan terima kasih kepada Tuhan Yang Maha Esa serta, dosen kami, Ibu Fhira Nhita dan tidak lupa juga Asisten Doesn yang telah membantu kami mendapatkan ilmu serta menyelesaikan tugas ini.  \n",
    "Kami tidak bertanggungjawab jika ada yang melakukan plagiarisme atau menyalin kode yang telah kami buat."
   ]
  }
 ],
 "metadata": {
  "colab": {
   "collapsed_sections": [
    "Tamt88oNV-wi",
    "LdHaWts5V-wn",
    "n9rKtpfyV-wn",
    "lcxPwvK_V-wo",
    "SPjWRtU9V-wp",
    "wTcXfzF-V-wp",
    "BHL3tvgKV-wp",
    "XNswplTgV-wt"
   ],
   "name": "main.ipynb",
   "provenance": []
  },
  "kernelspec": {
   "display_name": "Python 3",
   "language": "python",
   "name": "python3"
  },
  "language_info": {
   "codemirror_mode": {
    "name": "ipython",
    "version": 3
   },
   "file_extension": ".py",
   "mimetype": "text/x-python",
   "name": "python",
   "nbconvert_exporter": "python",
   "pygments_lexer": "ipython3",
   "version": "3.9.2"
  },
  "metadata": {
   "interpreter": {
    "hash": "ac59ebe37160ed0dfa835113d9b8498d9f09ceb179beaac4002f036b9467c963"
   }
  }
 },
 "nbformat": 4,
 "nbformat_minor": 1
}
