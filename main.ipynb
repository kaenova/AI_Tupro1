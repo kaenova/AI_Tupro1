{
 "cells": [
  {
   "cell_type": "markdown",
   "metadata": {},
   "source": [
    "# AI_Tupro1\n",
    "Kaenova Mahendra Auditama<sup>1</sup><br>\n",
    "Adhe Akram Azhari<sup>2</sup><br>\n",
    "Elita Aurora Az Zahra<sup>3</sup><br>\n",
    "<sup>1</sup><a href=\"kaenova@student.telkomuniversity.ac.id\">kaenova@student.telkomuniversity.ac.id</a><br>\n",
    "<sup>2</sup><a href=\"adheakramazhari@student.telkomuniversity.ac.id\">adheakramazhari@student.telkomuniversity.ac.id</a><br>\n",
    "<sup>3</sup><a href=\"elitaaurora@student.telkomuniversity.ac.id\">elitaaurora@student.telkomuniversity.ac.id</a><br>\n",
    "Informatics Engineering, Telkom University, Indonesia<br>\n",
    "2021\n",
    "\n",
    "Proyek ini merupakan proyek pertama dari Mata Kuliah Pengantar Kecerdasan Buatan dari 3 proyek yang akan di buat. Proyek pertama ini mengimplementasikan teknik searching dalam Kecerdasan Buatan dengan Genetic Algorithm. Pada algoritma ini kami membuat populasi dan generasi yang dapat diatur. Hal lain juga kami mengimplementasikan Elitisme. Pada penyeleksian orang tua, kami menggunakan fitness kompetisi dimana akan diambil sebanyak (Jumlah Populasi - Jumlah Elitism) sehingga generasi yang terbaru akan dibuat dari Elitisme serta hasil Crossover.  \n",
    "  \n",
    "Pada algoritma ini dibutuhkan library ```tqdm```. Untuk menginstallnya gunakan command berikut:  \n",
    "    <pre><code>pip install tqdm</code></pre>\n",
    "atau\n",
    "    <pre><code>conda install tqdm</code></pre>"
   ]
  },
  {
   "cell_type": "markdown",
   "metadata": {},
   "source": [
    "## Overview Tugas\n",
    "<hr>\n",
    "<br>\n",
    "Pada tugas yang diberikan, kami diminta untuk membuat suatu program yang menerapkan suatu teknik searching dengan menggunakan suatu konsep kecerdasan buatan. Dalam hal ini kami diminta untuk membuat dengan menggunakan Genetic Algorithm.  \n",
    "  \n",
    "Tugas tersebut memberikan kita suatu masalah untuk mencari nilai <b>maksimum</b> dari suatu fungsi:  \n",
    "<br>\n",
    "<img src=\"https://cdn.discordapp.com/attachments/766644489208201276/822318513347756042/unknown.png\" align=\"center\" width=\"40%\"/>\n",
    "dengan batasan x = [-1, 2] dan y = [-1, 1]"
   ]
  },
  {
   "cell_type": "markdown",
   "metadata": {},
   "source": [
    "## Rancangan Algoritma\n",
    "<hr>\n",
    "Untuk menyelesaikan tugas tersebut kami merancang algoritma sesuai pada diagram di bawah:  \n",
    "<br>\n",
    "<img src=\"https://cdn.discordapp.com/attachments/766644489208201276/822322600923103252/unknown.png\" align=\"center\" width=\"50%\">  \n",
    "<br>\n",
    "Dengan algoritma yang sudah dibuat kami juga menentukan bentuk kromosom yang ingin dibuat. Kromosom yang dibuat terdiri dari 6 genotip yang akan dibagi menjadi 2 bagian. Untuk 3 genotip pertama akan merepresentasikan untuk nilai x dan 3 genotip setelahnya digunakan untuk merepresentasikan nilai y. Pada setiap genotip tersebut akan diisi dengan suatu nilai bilangan real mulai dengan batasan [0, 1]  \n",
    "<br>\n",
    "<img src=\"https://cdn.discordapp.com/attachments/766644489208201276/822324109135446097/unknown.png\" align=\"center\" width=\"50%\"/>\n",
    "<br>  \n",
    "Untuk merubah genotip-genotip tersebut menjadi suatu nilai x dan y kami menggunakan suatu rumus seperti di bawah ini:\n",
    "<img src=\"https://cdn.discordapp.com/attachments/766644489208201276/822327746948104192/unknown.png\" align=\"center\" width=\"50%\"/> "
   ]
  },
  {
   "cell_type": "markdown",
   "metadata": {},
   "source": [
    "## The Code\n",
    "<hr>"
   ]
  },
  {
   "cell_type": "markdown",
   "metadata": {},
   "source": [
    "## Import Libraries\n",
    "Library python yang harus di masukkan untuk menjalankan algoritma ini"
   ]
  },
  {
   "cell_type": "code",
   "execution_count": 1,
   "metadata": {},
   "outputs": [],
   "source": [
    "import random\n",
    "import math\n",
    "from time import sleep\n",
    "from tqdm import tqdm"
   ]
  },
  {
   "cell_type": "markdown",
   "metadata": {},
   "source": [
    "## Chromosome Class\n",
    "Untuk membuat kromosom, kami merancang bahwa kromosom akan dibuat sebagai suatu objek yang memiliki beberapa prosedur seperti pengdekodean genotip menjadi suatu nilai x dan y serta untuk menghitung fitness dari kromosom itu sendiri."
   ]
  },
  {
   "cell_type": "code",
   "execution_count": 2,
   "metadata": {},
   "outputs": [],
   "source": [
    "class kromosome():\n",
    "    panjang = 6\n",
    "    \n",
    "    def decodeX(self):\n",
    "        temp_sum = 0\n",
    "        for i in range(3):\n",
    "            temp_sum = temp_sum + self.kromosom[i]\n",
    "        self.x = (-1 + ((2-(-1)) * (temp_sum/3)))\n",
    "\n",
    "    def decodeY(self):\n",
    "        temp_sum = 0\n",
    "        for i in range(3):\n",
    "            temp_sum = temp_sum + self.kromosom[i+3]\n",
    "        # Coded by Kaenova Mahendra Auditama (kaenova@gmail.com)\n",
    "        # *not responsible if someone plagirized or copied my code\n",
    "        self.y = (-1 + ((1-(-1)) * (temp_sum/3)))\n",
    "\n",
    "    def CalculateFitness(self):\n",
    "        self.fitness = (math.cos(self.x**2)*math.sin(self.y**2) + (self.x + self.y))\n",
    "\n",
    "    def PrintKromosome(self):\n",
    "        print(\"Fitness: {}\".format(self.fitness))\n",
    "        print(\"Fenotip X: {} Y: {}\".format(self.x, self.y))\n",
    "        print(\"Genotipe: {} \\n\".format(self.kromosom))\n",
    "\n",
    "    def __init__(self):\n",
    "        self.kromosom = []\n",
    "        self.fitness = 0\n",
    "        self.x = 0\n",
    "        self.y = 0\n",
    "        for j in range(6):\n",
    "            self.kromosom.append(round((random.uniform(0,1)), 3))\n",
    "        self.decodeX()\n",
    "        self.decodeY()"
   ]
  },
  {
   "cell_type": "markdown",
   "metadata": {},
   "source": [
    "## Genetic Algorithm Procedure and Function\n",
    "Fungsi dan Prosedur utama yang dibutuhkan untuk menjalankan algoritma ini"
   ]
  },
  {
   "cell_type": "markdown",
   "metadata": {},
   "source": [
    "### Initialize Population\n",
    "Dalam prosedur ini digunakan sebagai generasi pertama, dimana akan digunakan untuk membuat kromosom sebanyak jumlah yang ditentukan."
   ]
  },
  {
   "cell_type": "code",
   "execution_count": 3,
   "metadata": {},
   "outputs": [],
   "source": [
    "def initialize_population(population_made):\n",
    "    population = []\n",
    "    for i in range(population_made): #variable\n",
    "        kromosome_temp = kromosome()\n",
    "        # Coded by Kaenova Mahendra Auditama (kaenova@gmail.com)\n",
    "        # *not responsible if someone plagirized or copied my code\n",
    "        population.append(kromosome_temp)\n",
    "    return population"
   ]
  },
  {
   "cell_type": "markdown",
   "metadata": {},
   "source": [
    "### CalculateKromosomeFitness\n",
    "Fungsi ini digunakan untuk menghitung fitness pada setiap kromosom."
   ]
  },
  {
   "cell_type": "code",
   "execution_count": 4,
   "metadata": {},
   "outputs": [],
   "source": [
    "def calculateKromosomeFitness(population):\n",
    "    for i in range(len(population)):\n",
    "        population[i].CalculateFitness()"
   ]
  },
  {
   "cell_type": "markdown",
   "metadata": {},
   "source": [
    "### PopulationFitnessSort\n",
    "Dalam algoritma ini kami akan melakukan elitism dan selection parent sehingga dibutuhkan fungsi yang mengembalikan kromosom secara terurut mengecil dari berdasarkan fitness tersebut.\n"
   ]
  },
  {
   "cell_type": "code",
   "execution_count": 5,
   "metadata": {},
   "outputs": [],
   "source": [
    "def PopulationFitnessSort(population: [kromosome()]):\n",
    "    population = sorted(population, key=lambda x: x.fitness, reverse= 1)\n",
    "\n",
    "    return population"
   ]
  },
  {
   "cell_type": "markdown",
   "metadata": {},
   "source": [
    "### GetElitism\n",
    "Fungsi ini akan mengambil kromosom terbaik dari suatu populasi yang sudah diurutkan dari yang terbesar menuju ke terkecil. Banyaknya yang diambil sebesar 1/5 dari total populasi yang ada."
   ]
  },
  {
   "cell_type": "code",
   "execution_count": 6,
   "metadata": {},
   "outputs": [],
   "source": [
    "def getElitism(population):\n",
    "    get_selection = (math.floor(len(population)/ 5))\n",
    "    if get_selection % 2 != 0:\n",
    "        get_selection += 1\n",
    "    elitism = []\n",
    "    for i in range(get_selection):\n",
    "        elitism.append(population[i])\n",
    "\n",
    "    return elitism"
   ]
  },
  {
   "cell_type": "markdown",
   "metadata": {},
   "source": [
    "### TournamentSelection\n",
    "Fungsi ini akan mengambil kromosom-kromosom dari populasi berdasarkan fitness. Yang terambil sebanyak 4/5 dari populasi dan index yang mulai diambil merupakan index dari 1/10 populasi."
   ]
  },
  {
   "cell_type": "code",
   "execution_count": 7,
   "metadata": {},
   "outputs": [],
   "source": [
    "def tournamentSelection(population):\n",
    "    get_selection = (math.floor(len(population)/ 5))\n",
    "    if get_selection % 2 != 0:\n",
    "       get_selection += 1\n",
    "    jum_parent = (len(population) - get_selection)\n",
    "    start_parent = int((get_selection / 2) - 1)\n",
    "    parent = []\n",
    "    for i in range(jum_parent) :\n",
    "        parent.append(population[start_parent])\n",
    "\n",
    "    return parent"
   ]
  },
  {
   "cell_type": "markdown",
   "metadata": {},
   "source": [
    "### MatingPool\n",
    "Dari Fungsi TournamentSelection, pada mating pool ini akan memasangkan parent-parent tersebut untuk dipersiapkan melakukan crossover."
   ]
  },
  {
   "cell_type": "code",
   "execution_count": 8,
   "metadata": {},
   "outputs": [],
   "source": [
    "def MatingPool(parent = [kromosome()]):\n",
    "    parent_temp = parent\n",
    "    pasangan = []\n",
    "    j = 0\n",
    "\n",
    "    for i in range(int(len(parent)/2)):\n",
    "        pasangan_temp = []\n",
    "        random_angka_parent = random.randint(1, (len(parent_temp)-1))\n",
    "        pasangan_temp.append(parent_temp[0])\n",
    "        pasangan_temp.append(parent_temp[random_angka_parent])\n",
    "        pasangan.append(pasangan_temp)\n",
    "        parent_temp.pop(random_angka_parent)\n",
    "        parent_temp.pop(0)\n",
    "        j = j + 1\n",
    "\n",
    "    return pasangan"
   ]
  },
  {
   "cell_type": "markdown",
   "metadata": {},
   "source": [
    "### Crossover\n",
    "Setelah melakukan pemasang-masangan pada fungsi MatingPool dilakukan crossover pada titik yang random di genotip. Sehingga pada suatu pasangan akan menghasilkan 2 anak (child)."
   ]
  },
  {
   "cell_type": "code",
   "execution_count": 9,
   "metadata": {},
   "outputs": [],
   "source": [
    "def crossover(pasangan = [[kromosome],[kromosome]]):\n",
    "    populasi_anak = []\n",
    "    for i in range(len(pasangan)):\n",
    "        temp_pasangan = pasangan[i]\n",
    "        parent1 = temp_pasangan[0]\n",
    "        parent2 = temp_pasangan[1]\n",
    "        panjang_potong = random.randint(1,4)\n",
    "\n",
    "        children_temp1 = []\n",
    "        children_temp2 = []\n",
    "\n",
    "        for j in range(panjang_potong):\n",
    "            children_temp1.append(parent1.kromosom[j])\n",
    "        for k in range(len(parent1.kromosom) - panjang_potong):\n",
    "            children_temp1.append(parent2.kromosom[k+panjang_potong])\n",
    "        for j in range(panjang_potong):\n",
    "            children_temp2.append(parent2.kromosom[j])\n",
    "        for k in range(len(parent1.kromosom) - panjang_potong):\n",
    "            children_temp2.append(parent1.kromosom[k+panjang_potong])\n",
    "\n",
    "        kromosome_temp_1 = kromosome()\n",
    "        kromosome_temp_2 = kromosome()\n",
    "        kromosome_temp_1.kromosom = children_temp1\n",
    "        kromosome_temp_2.kromosom = children_temp2\n",
    "        kromosome_temp_1.CalculateFitness()\n",
    "        kromosome_temp_2.CalculateFitness()\n",
    "        populasi_anak.append(kromosome_temp_1)\n",
    "        populasi_anak.append(kromosome_temp_2)\n",
    "\n",
    "    return populasi_anak"
   ]
  },
  {
   "cell_type": "markdown",
   "metadata": {},
   "source": [
    "### Mutation\n",
    "Dalam genetika kita tidak boleh melupakan kemungkinan terjadinya suatu mutasi pada genotip-genotiup tertentu. Disini saya membuat bahwa besarnya mutasi pada suatu genotip adalah acak dari range [-0.08, 0.08] dengan kemungkinan terjadinya mutasi dibawah 1%"
   ]
  },
  {
   "cell_type": "code",
   "execution_count": 10,
   "metadata": {},
   "outputs": [],
   "source": [
    "def mutation(children):\n",
    "    for i in range(len(children)):\n",
    "        for j in range(children[i].panjang):\n",
    "            random_mutation = random.uniform(0,1)\n",
    "            if (random_mutation < 0.1 ): #Setup mutasi\n",
    "                children[i].kromosom[j] += round((random.uniform(-0.08,0.08)),3)\n",
    "    \n",
    "    return children"
   ]
  },
  {
   "cell_type": "markdown",
   "metadata": {},
   "source": [
    "## Other Procedure or Function\n",
    "Kami juga membutuhkan prosedur atau fungsi lain yang bukan menjadi hal utama dalam algoritma ini, tetapi untuk membantu tracking generasi dan kromosom yang terjadi ketika algoritma ini berjalan"
   ]
  },
  {
   "cell_type": "code",
   "execution_count": 11,
   "metadata": {},
   "outputs": [],
   "source": [
    "def printAllKromosome(population = [kromosome()]):\n",
    "    for i in range(len(population)):\n",
    "        population[i].PrintKromosome()\n",
    "\n",
    "def printBestKromosom(best: kromosome, generasi):\n",
    "    print(\" Best Fitness from Generation {}\".format(generasi+1))\n",
    "    # Coded by Kaenova Mahendra Auditama (kaenova@gmail.com)\n",
    "    # *not responsible if someone plagirized or copied my code\n",
    "    print(\"Fitness: {}\".format(best.fitness))\n",
    "    print(\"Fenotip X: {} Y: {}\".format(best.x, best.y))\n",
    "    print(\"Genotipe: {} \\n\".format(best.kromosom))"
   ]
  },
  {
   "cell_type": "markdown",
   "metadata": {},
   "source": [
    "## MAIN"
   ]
  },
  {
   "cell_type": "code",
   "execution_count": 12,
   "metadata": {},
   "outputs": [
    {
     "name": "stdout",
     "output_type": "stream",
     "text": [
      "How many population do you want to have? \n",
      " [Input Even Number over 10] : 100\n",
      "How many generation do you want to have?: 50000\n"
     ]
    },
    {
     "name": "stderr",
     "output_type": "stream",
     "text": [
      "  0%|          | 155/50000 [00:00<01:03, 778.98it/s]"
     ]
    },
    {
     "name": "stdout",
     "output_type": "stream",
     "text": [
      " Best Fitness from Generation 1\n",
      "Fitness: 0.4406094881478842\n",
      "Fenotip X: 0.5750000000000002 Y: -0.15800000000000003\n",
      "Genotipe: [0.131, 0.964, 0.48, 0.135, 0.856, 0.272] \n",
      "\n",
      " Best Fitness from Generation 5\n",
      "Fitness: 1.170129052023216\n",
      "Fenotip X: 0.7869999999999999 Y: 0.30666666666666664\n",
      "Genotipe: [0.487, 0.768, 0.33299999999999996, 0.83, 0.028999999999999998, 0.242] \n",
      "\n",
      " Best Fitness from Generation 15\n",
      "Fitness: 1.217010859759844\n",
      "Fenotip X: 1.2309999999999999 Y: -0.013999999999999901\n",
      "Genotipe: [0.487, 0.726, 0.08199999999999993, 0.83, 0.028999999999999998, 0.242] \n",
      "\n",
      " Best Fitness from Generation 16\n",
      "Fitness: 1.2257017359618527\n",
      "Fenotip X: 0.3400000000000001 Y: 0.5693333333333335\n",
      "Genotipe: [0.487, 0.726, 0.08199999999999993, 0.8959999999999999, -0.035, 0.242] \n",
      "\n",
      " Best Fitness from Generation 20\n",
      "Fitness: 1.735614720702079\n",
      "Fenotip X: 0.7589999999999999 Y: 0.6413333333333331\n",
      "Genotipe: [0.504, 0.726, 0.08199999999999993, 0.83, -0.028000000000000004, 0.242] \n",
      "\n",
      " Best Fitness from Generation 32\n",
      "Fitness: 2.1991123721286523\n",
      "Fenotip X: 0.9049999999999998 Y: 0.8460000000000001\n",
      "Genotipe: [0.555, 0.648, 0.14699999999999994, 0.762, 0.027999999999999997, 0.242] \n",
      "\n"
     ]
    },
    {
     "name": "stderr",
     "output_type": "stream",
     "text": [
      "  5%|▌         | 2570/50000 [00:03<01:17, 610.30it/s]"
     ]
    },
    {
     "name": "stdout",
     "output_type": "stream",
     "text": [
      " Best Fitness from Generation 2490\n",
      "Fitness: 2.2799768023644\n",
      "Fenotip X: 0.7589999999999999 Y: 0.9066666666666665\n",
      "Genotipe: [0.8919999999999996, 0.6770000000000005, 0.06999999999999997, 0.4160000000000002, 0.32000000000000023, -0.8480000000000016] \n",
      "\n"
     ]
    },
    {
     "name": "stderr",
     "output_type": "stream",
     "text": [
      "  7%|▋         | 3555/50000 [00:05<01:15, 615.24it/s]"
     ]
    },
    {
     "name": "stdout",
     "output_type": "stream",
     "text": [
      " Best Fitness from Generation 3471\n",
      "Fitness: 2.3201155013099437\n",
      "Fenotip X: 0.798 Y: 0.9199999999999999\n",
      "Genotipe: [1.24, 1.1510000000000007, 0.592, 0.9590000000000004, 0.5470000000000005, -1.0600000000000007] \n",
      "\n"
     ]
    },
    {
     "name": "stderr",
     "output_type": "stream",
     "text": [
      " 18%|█▊        | 8918/50000 [00:14<01:09, 593.65it/s]"
     ]
    },
    {
     "name": "stdout",
     "output_type": "stream",
     "text": [
      " Best Fitness from Generation 8807\n",
      "Fitness: 2.399345611486141\n",
      "Fenotip X: 0.996 Y: 0.9646666666666668\n",
      "Genotipe: [0.4210000000000008, 0.9570000000000001, -0.21800000000000053, -0.3340000000000009, -0.5859999999999993, -2.503000000000001] \n",
      "\n"
     ]
    },
    {
     "name": "stderr",
     "output_type": "stream",
     "text": [
      "100%|██████████| 50000/50000 [01:08<00:00, 730.71it/s]\n"
     ]
    }
   ],
   "source": [
    "if __name__ == \"__main__\":\n",
    "    population_number = int(input(\"How many population do you want to have? \\n [Input Even Number over 10] : \"))\n",
    "    while (population_number % 2 != 0) or (population_number < 10):\n",
    "        population_number = int(input(\"How many population do you want to have? \\n [Input Even Number over 10] : \"))\n",
    "\n",
    "    generation = int(input(\"How many generation do you want to have?: \"))\n",
    "    while generation <= 0:\n",
    "        generation = int(input(\"How many generation do you want to have?: \"))\n",
    "    \n",
    "\n",
    "    population = initialize_population(population_number)\n",
    "\n",
    "    best_kromosom = kromosome()\n",
    "\n",
    "    for i in tqdm(range(generation)):\n",
    "        calculateKromosomeFitness(population)\n",
    "        PopulationFitnessSort(population)\n",
    "        \n",
    "        if best_kromosom.fitness < population[0].fitness:\n",
    "            best_kromosom = population[0]\n",
    "            printBestKromosom(population[0], i)\n",
    "        \n",
    "        elitism = getElitism(population)\n",
    "        parent = tournamentSelection(population) \n",
    "        couple = MatingPool(parent)\n",
    "        children = crossover(couple)\n",
    "        children = mutation(children)\n",
    "        population = children + elitism"
   ]
  },
  {
   "cell_type": "markdown",
   "metadata": {},
   "source": [
    "## Endnote by Author\n",
    "Pertama-tama kami mengucapkan terima kasih kepada Tuhan Yang Maha Esa serta, dosen kami, Ibu Fhira Nhita dan tidak lupa juga Asisten Doesn yang telah membantu kami mendapatkan ilmu serta menyelesaikan tugas ini.  \n",
    "Kami tidak bertanggungjawab jika ada yang melakukan plagiarisme atau menyalin kode yang telah kami buat."
   ]
  }
 ],
 "metadata": {
  "kernelspec": {
   "display_name": "Python 3",
   "language": "python",
   "name": "python3"
  },
  "language_info": {
   "codemirror_mode": {
    "name": "ipython",
    "version": 3
   },
   "file_extension": ".py",
   "mimetype": "text/x-python",
   "name": "python",
   "nbconvert_exporter": "python",
   "pygments_lexer": "ipython3",
   "version": "3.9.2"
  },
  "metadata": {
   "interpreter": {
    "hash": "ac59ebe37160ed0dfa835113d9b8498d9f09ceb179beaac4002f036b9467c963"
   }
  }
 },
 "nbformat": 4,
 "nbformat_minor": 2
}
